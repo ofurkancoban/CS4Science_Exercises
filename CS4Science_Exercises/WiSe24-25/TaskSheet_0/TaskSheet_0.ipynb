{
 "cells": [
  {
   "metadata": {},
   "cell_type": "markdown",
   "source": [
    "# Task Sheet 0: Getting started with Python\n",
    "To write and test Python scripts, you need to install an IDE on your computer\n",
    "\n",
    "* PyCharm (Free Community Edition), https://www.jetbrains.com/pycharm/download/\n",
    "Download the COMMUNITY edition ! (You find it BELOW the PROFESSIONAL edition).\n",
    "* Newbies in programming can use the simple IDE Thonny  (https://thonny.org/) instead. This IDE will also be available in the exam!\n",
    " \n",
    "The tutors in your tutorial will support you if you have problems installing or using the IDE. Bring your laptop/notebook to your tutorial.\n",
    " \n",
    "\n",
    "* Try to answer the question first without IDE and then\n",
    "* Type the expression or statement in the shell and see the result\n",
    "* Compare it with your initial answer and correct your answer if necessary.\n",
    "Period: 15.10.2024, 10:00 – 25.10.2024, 10:00"
   ],
   "id": "1c994a9c742552f0"
  },
  {
   "metadata": {},
   "cell_type": "markdown",
   "source": [
    "# Tasks\n",
    "# Task 1: How to cook an egg (3 Points)\n",
    "\n",
    "Formulate an algorithm in normal language how to cook an egg (in a simple pot of water).\n",
    "\n",
    "Your algorithm should allow the cooking of soft and of hard eggs.\n"
   ],
   "id": "ed60d19a9ac0c69d"
  },
  {
   "metadata": {},
   "cell_type": "markdown",
   "source": [
    "1.\tStart by gathering the necessary items: eggs, a pot, water, a stove, and a timer.\n",
    "2. Place the eggs gently into the pot, ensuring they are in a single layer.\n",
    "3. Fill the pot with enough cold water to cover the eggs by about an inch.\n",
    "4. Place the pot on the stove and turn the heat to high, allowing the water to come to a rolling boil.\n",
    "5. Once the water is boiling, turn off the heat immediately.\n",
    "6. Decide whether you want soft-boiled or hard-boiled eggs:\n",
    "* For soft-boiled eggs, set a timer for 4 to 6 minutes.\n",
    "* For hard-boiled eggs, set a timer for 9 to 12 minutes.\n",
    "7. When the timer goes off, carefully remove the eggs from the hot water.\n",
    "8. (Optional) Place the eggs in a bowl of ice water to stop cooking and make peeling easier.\n",
    "9. Peel the eggs and serve according to your preference (soft or hard-boiled)."
   ],
   "id": "e41aa8a5e9186e69"
  },
  {
   "metadata": {},
   "cell_type": "markdown",
   "source": [
    "# Task 2: Variables and Assignment (2 Points)\n",
    "Assume that variable a has value 4 and variable b has value 2.\n",
    "Consider the following assignment statement:\n",
    "\n",
    "a = (a - b) * b + a\n",
    "\n",
    "Which of the following statements are true?\n",
    "\n",
    "\n",
    "The assignment statement is not correct because variable a is used on the left and on the right of the \"=\".\n",
    "\n",
    "✅ After execution variable a equals 8 ( a == 8).\n",
    "\n",
    "After execution variable a equals 2 ( a == 2).\n",
    "\n",
    "After execution variable b equals 4 (b == 4).\n",
    "\n",
    "✅ Variable b doesn't change its value, because it's only on the right hand-side of the assignment."
   ],
   "id": "b6f632ad2d843d0d"
  },
  {
   "metadata": {},
   "cell_type": "markdown",
   "source": [
    "# Task 3: Variables and Type (2 Points)\n",
    "Which statements are correct?\n",
    "\n",
    "\n",
    "✅ A variable refers a value.\n",
    "\n",
    "The value of a variable can not be changed.\n",
    "\n",
    "✅ You can assign a new value to a variable by an assignment statement.\n",
    "\n",
    "6 + 37 = c assigns the value 43 to variable c.\n",
    "\n",
    "✅ The type of a variable in Python is given by the type of its value.\n",
    "\n",
    "✅ The type of a variable in Python may change."
   ],
   "id": "e32c5f82cdd47f6f"
  },
  {
   "metadata": {},
   "cell_type": "markdown",
   "source": [
    "# Task 4: Strings (1 Point)\n",
    "\n",
    "Which of the following assignments are syntactically correct? In these assignments, a String which contains quotation marks shall be assigned to variable a.\n",
    "\n",
    "A Python statement is syntactically correct if the Python interpreter evaluates it without an error.\n",
    "\n",
    "We will later in the course see, how the syntax rules of programming languages can be formally defined .\n",
    "\n",
    "\n",
    "a = \"Always use the assignment operator \"=\" for storing values in variables\"\n",
    "\n",
    "✅ a = \"Always use the assignment operator '=' for storing values in variables\"\n",
    "\n",
    "✅ a = 'Always use the assignment operator \"=\" for storing values in variables'"
   ],
   "id": "79ed1ca51dab062d"
  },
  {
   "metadata": {},
   "cell_type": "markdown",
   "source": [
    "# Task 5: Just a fun fact (1 Point)\n",
    "\n",
    "Why is Python named \"Python\"?\n",
    "\n",
    "\n",
    "The Python language is named after the snake with this name because Python programs also tend to be very long...\n",
    "\n",
    "✅ The name has been given in honour to the old British comedy group \"Monty Python's Flying Circus\".\n",
    "\n",
    "Computer Scientists love acronyms: PYTHON means \"Program Your THOughts Nicely\"."
   ],
   "id": "41be046d0554e5d0"
  },
  {
   "metadata": {
    "ExecuteTime": {
     "end_time": "2024-10-23T08:04:01.474932Z",
     "start_time": "2024-10-23T08:04:01.473510Z"
    }
   },
   "cell_type": "code",
   "source": "",
   "id": "e8e8501edad22bd6",
   "outputs": [],
   "execution_count": null
  }
 ],
 "metadata": {
  "kernelspec": {
   "display_name": "Python 3",
   "language": "python",
   "name": "python3"
  },
  "language_info": {
   "codemirror_mode": {
    "name": "ipython",
    "version": 2
   },
   "file_extension": ".py",
   "mimetype": "text/x-python",
   "name": "python",
   "nbconvert_exporter": "python",
   "pygments_lexer": "ipython2",
   "version": "2.7.6"
  }
 },
 "nbformat": 4,
 "nbformat_minor": 5
}
