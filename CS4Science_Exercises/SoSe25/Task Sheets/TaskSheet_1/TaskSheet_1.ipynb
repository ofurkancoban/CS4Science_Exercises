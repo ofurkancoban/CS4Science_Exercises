{
 "cells": [
  {
   "cell_type": "markdown",
   "id": "ed60d19a9ac0c69d",
   "metadata": {},
   "source": [
    "# Task Sheet 1:Getting started with Python - 09 April 2025 \n",
    "# Task 1: How to cook an egg (12 Points)\n",
    "\n",
    "Formulate an algorithm in normal language how to cook an egg (in a simple pot of water).\n",
    "\n",
    "Your algorithm should allow the cooking of soft and of hard eggs.\n"
   ]
  },
  {
   "cell_type": "markdown",
   "id": "9291f31e9f8b2fc7",
   "metadata": {},
   "source": [
    "<img src=\"/Users/ofurkancoban/Desktop/Uni Oldenburg/SoSe2025/Introduction to Computer Science/Exercises/CS4Science_Exercises/CS4Science_Exercises/SoSe25/TaskSheet_1/Task Sheet 1 - Flow Diagram-4.jpg\" width=\"500\"/>(-)"
   ]
  },
  {
   "cell_type": "markdown",
   "id": "7468312dc3ef9613",
   "metadata": {},
   "source": []
  },
  {
   "cell_type": "code",
   "id": "c0615e0d20f0fa94",
   "metadata": {
    "ExecuteTime": {
     "end_time": "2025-04-09T20:26:23.609524Z",
     "start_time": "2025-04-09T20:26:23.605489Z"
    }
   },
   "source": [],
   "outputs": [],
   "execution_count": 15
  },
  {
   "cell_type": "markdown",
   "id": "b6f632ad2d843d0d",
   "metadata": {},
   "source": [
    "# Task 2: Variables and Assignment (8 Points)\n",
    "Assume that variable a has value 4 and variable b has value 2.\n",
    "Consider the following assignment statement:\n",
    "\n",
    "a = (a - b) * b + a\n",
    "\n",
    "Which of the following statements are true?\n",
    "\n",
    "\n",
    "The assignment statement is not correct because variable a is used on the left and on the right of the \"=\".\n",
    "\n",
    "✅ After execution variable a equals 8 ( a == 8).\n",
    "\n",
    "After execution variable a equals 2 ( a == 2).\n",
    "\n",
    "After execution variable b equals 4 (b == 4).\n",
    "\n",
    "✅ Variable b doesn't change its value, because it's only on the right hand-side of the assignment."
   ]
  },
  {
   "cell_type": "markdown",
   "id": "e32c5f82cdd47f6f",
   "metadata": {},
   "source": [
    "# Task 3: Variables and Type (8 Points)\n",
    "Which statements are correct?\n",
    "\n",
    "\n",
    "✅ A variable refers a value.\n",
    "\n",
    "The value of a variable can not be changed.\n",
    "\n",
    "✅ You can assign a new value to a variable by an assignment statement.\n",
    "\n",
    "6 + 37 = c assigns the value 43 to variable c.\n",
    "\n",
    "✅ The type of a variable in Python is given by the type of its value.\n",
    "\n",
    "✅ The type of a variable in Python may change."
   ]
  },
  {
   "cell_type": "markdown",
   "id": "79ed1ca51dab062d",
   "metadata": {},
   "source": [
    "# Task 4: Nested quotation marks in Strings (4 Point)\n",
    "\n",
    "Which of the following assignments are syntactically correct? In these assignments, a String which contains quotation marks shall be assigned to variable a.\n",
    "\n",
    "A Python statement is syntactically correct if the Python interpreter evaluates it without an error.\n",
    "\n",
    "We will later in the course see, how the syntax rules of programming languages can be formally defined .\n",
    "\n",
    "\n",
    "a = \"Always use the assignment operator \"=\" for storing values in variables\"\n",
    "\n",
    "✅ a = \"Always use the assignment operator '=' for storing values in variables\"\n",
    "\n",
    "✅ a = 'Always use the assignment operator \"=\" for storing values in variables'"
   ]
  },
  {
   "cell_type": "markdown",
   "id": "41be046d0554e5d0",
   "metadata": {},
   "source": [
    "# Task 5: Just a fun fact (4 Point)\n",
    "\n",
    "Why is Python named \"Python\"?\n",
    "\n",
    "\n",
    "The Python language is named after the snake with this name because Python programs also tend to be very long...\n",
    "\n",
    "✅ The name has been given in honour to the old British comedy group \"Monty Python's Flying Circus\".\n",
    "\n",
    "Computer Scientists love acronyms: PYTHON means \"Program Your THOughts Nicely\"."
   ]
  },
  {
   "cell_type": "markdown",
   "id": "56c987943a7842fd",
   "metadata": {},
   "source": [
    "# Task 1: Noisy Animals (14 points)\n",
    "Write a script animalnoise.py that\n",
    "\n",
    "   * let the user enter the name of an animal species, e.g. dog, cat, bird,…\n",
    "   * prints what kind of noise this animal makes.\n",
    "        *If it is a new animal, the script should print an appropriate message.\n",
    "\n",
    "The output should look similar to that:  \n",
    "Take care to put the noise in quotation marks '…' "
   ]
  },
  {
   "cell_type": "markdown",
   "id": "ad0313dd35c1c2ef",
   "metadata": {},
   "source": [
    "        >>> %Run animalnoise.py\n",
    "        What kind of animal do you have? dog\n",
    "        A dog makes 'wuff'.\n",
    "or\n",
    "\n",
    "        >>> %Run animalnoise.py\n",
    "        What kind of animal do you have? bird\n",
    "        A bird sings 'piep'.\n",
    " or  (for an unknown animal)\n",
    "\n",
    "        >>> %Run animalnoise.py\n",
    "        What kind of animal do you have? crocodile\n",
    "        I do not know what kind of noise a crocodile makes.\n",
    " Feel free to put as many animals into your script as you like, but your script should be able to print the noise of at least three different animals.\n",
    " \n",
    "Hints:\n",
    "In this task you exercise\n",
    "* to use the if-elif-Statement to switch between different cases (different animal species)\n"
   ]
  },
  {
   "cell_type": "code",
   "id": "a6d72cded774bc29",
   "metadata": {
    "ExecuteTime": {
     "end_time": "2025-04-09T20:26:25.379237Z",
     "start_time": "2025-04-09T20:26:23.611680Z"
    }
   },
   "source": [
    "# Noisy Animals\n",
    "# Alipour, Jalil\n",
    "# Coban, Omer Furkan\n",
    "# SoSe25\n",
    "# CS4Science - Team B2\n",
    "\n",
    "\n",
    "user_input = input(\"Enter your animal's name: \")\n",
    "\n",
    "if user_input  == \"dog\":\n",
    "    print(\"Wuff!\")\n",
    "elif user_input == \"cat\":\n",
    "    print(\"Meow!\")\n",
    "elif user_input == \"bird\":\n",
    "    print(\"Piep!\")\n",
    "elif user_input == \"cow\":\n",
    "    print(\"Moo!\")\n",
    "elif user_input == \"sheep\":\n",
    "    print(\"Mee!\")\n",
    "else:\n",
    "    print(\"Sorry, that's not an animal\")"
   ],
   "outputs": [
    {
     "name": "stdout",
     "output_type": "stream",
     "text": [
      "Sorry, that's not an animal\n"
     ]
    }
   ],
   "execution_count": 16
  },
  {
   "cell_type": "code",
   "id": "a3f0fd68d7092505",
   "metadata": {
    "ExecuteTime": {
     "end_time": "2025-04-09T20:26:25.383563Z",
     "start_time": "2025-04-09T20:26:25.381122Z"
    }
   },
   "source": [],
   "outputs": [],
   "execution_count": 16
  },
  {
   "cell_type": "code",
   "id": "f165f139bb78085",
   "metadata": {
    "ExecuteTime": {
     "end_time": "2025-04-09T20:26:25.387043Z",
     "start_time": "2025-04-09T20:26:25.385339Z"
    }
   },
   "source": [],
   "outputs": [],
   "execution_count": 16
  }
 ],
 "metadata": {
  "kernelspec": {
   "display_name": "Python [conda env:base] *",
   "language": "python",
   "name": "conda-base-py"
  },
  "language_info": {
   "codemirror_mode": {
    "name": "ipython",
    "version": 3
   },
   "file_extension": ".py",
   "mimetype": "text/x-python",
   "name": "python",
   "nbconvert_exporter": "python",
   "pygments_lexer": "ipython3",
   "version": "3.12.7"
  }
 },
 "nbformat": 4,
 "nbformat_minor": 5
}
