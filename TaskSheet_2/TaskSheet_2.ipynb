{
 "cells": [
  {
   "metadata": {},
   "cell_type": "markdown",
   "source": "",
   "id": "314e225fdb17db31"
  },
  {
   "metadata": {},
   "cell_type": "markdown",
   "source": [
    "# Task sheet 2: Data Coding and Functions\n",
    "For all tasks, ensure:\n",
    "\n",
    "* You may only use concepts which have been taught in class so far!\n",
    "* Comment your scripts!\n",
    "    * In the header, state\n",
    "            * the name of your team and the names of the team members\n",
    "            * the date and\n",
    "            * a short description of the objective of this script\n",
    "* in the script add short explanations which make the script easier to understand, e.g.\n",
    "    * meaning or purpose of variables\n",
    "    * purpose of more complex statements"
   ],
   "id": "15ef5e031a045434"
  },
  {
   "metadata": {},
   "cell_type": "markdown",
   "source": [
    "# Task 1: Code an unsigned value in binary representation (5 points)\n",
    "* Let the user enter a positive int number (including 0)\n",
    "(ensure that a positive value (>=0) has been entered!)\n",
    "1. Store the base 2 in a variable called new_base\n",
    "2. Compute the representation of the number in base new_base (see slide 110) and print the new representation.\n",
    " * The binary digits should be in the correct order!\n",
    "3. What happens if you change new_base to another value, e.g.\n",
    "  * new_base = 7 or\n",
    "  * new_base = 1 or\n",
    "  * new_base = 0 ?\n",
    "Answer this question in the comment field.\n",
    "\n",
    "~~~\n",
    "In this task, you exercise:\n",
    "\n",
    "    * binary representation of unsigned numbers\n",
    "    * control structures\n",
    "~~\n"
   ],
   "id": "24e615d5ddd467b3"
  },
  {
   "metadata": {
    "ExecuteTime": {
     "end_time": "2024-11-08T09:26:32.680670Z",
     "start_time": "2024-11-08T09:26:30.567755Z"
    }
   },
   "cell_type": "code",
   "source": [
    "# Code an unsigned value in binary representation\n",
    "# Coban, Omer Furkan\n",
    "# WiSe 24/25\n",
    "# CS4Science - Team B2\n",
    "# Height input from user\n",
    "\n",
    "new_base = 2\n",
    "n = int(input(\"Please enter a positive int number: \"))\n",
    "n_original = n \n",
    "while n < 0 :\n",
    "    print(\"Try again! You entered a negative number.\")\n",
    "    n = int(input(\"Try again: Enter a positive int number: \"))\n",
    "\n",
    "if n == 0:\n",
    "    result = \"0\"\n",
    "else:\n",
    "    result = \"\"\n",
    "    while n > 0:\n",
    "        digit = n % new_base \n",
    "        print(f\"Next digit: {digit}\") \n",
    "        n = n // new_base  \n",
    "        result = str(digit) + result\n",
    "\n",
    "print(f\"The representation of {n_original} in base {new_base} is: {result}.\")"
   ],
   "id": "7b75af346370fa7",
   "outputs": [
    {
     "name": "stdout",
     "output_type": "stream",
     "text": [
      "Next digit: 1\n",
      "Next digit: 1\n",
      "The representation of 3 in base 2 is: 11.\n"
     ]
    }
   ],
   "execution_count": 2
  },
  {
   "metadata": {},
   "cell_type": "markdown",
   "source": [
    "# Task 2: Coding unsigned integers with an arbitrary base using functions6 points\n",
    "\n",
    "Enhance your former program:\n",
    "\n",
    "1. Write a function which converts a given number into a representation with another base. The function gets the vale and the base as arguments and returns s String with code in the given base\n",
    "* Replace digits in the new representation which are larger than 9 by capital letters 'A', 'B', ... before printing the new representation.\n",
    "2. Write a main program which\n",
    "* calls a self-defined function which asks the user to enter a  base value\n",
    "in range 2..34  and returns it\n",
    "    * this value should be assigned to a variable base\n",
    "* calls a self-defined function which asks the user to enter a positive integer as value\n",
    "    * this value should be assigned to a variable n \n",
    "* calls the newly defined function to convert n into a representation with the given base.\n",
    "* print the resulting String\n",
    "\n",
    "Hints:\n",
    "\n",
    "* You need to define a function for reading values also (see lecture).\n",
    "* The values of the letters A-F are:  10 ~ A, 11~ B, 12~ C, 13~ D, 14~ E, 15 ~ F, ..\n",
    "* The Unicodes or ASCII-codes of the capital letters are increasing number:  ord('A') = 65, ord('B') = 66,.. . You can use this to calculate the letter instead of having a switch-statement!\n",
    "        \n",
    "            Hints:\n",
    "            In this task, you exercise:\n",
    "            * hexadecimal (base = 16)  representation of unsigned numbers\n",
    "            * control structures\n",
    "            * Unicodes of letters"
   ],
   "id": "e162b9dafa31dbe2"
  },
  {
   "metadata": {
    "ExecuteTime": {
     "end_time": "2024-11-10T13:01:40.464811Z",
     "start_time": "2024-11-10T13:00:03.535572Z"
    }
   },
   "cell_type": "code",
   "source": [
    "# Python- Hash function\n",
    "# Coban, Omer Furkan\n",
    "# WiSe 24/25\n",
    "# CS4Science - Team B2\n",
    "\n",
    "def myhash(first_name, last_name):\n",
    "    \"\"\"\n",
    "    Make a simple hash code using a person's first and last name.\n",
    "\n",
    "    Parameters:\n",
    "        first_name (str): The person's first name\n",
    "        last_name (str): The person's last name\n",
    "\n",
    "    Returns:\n",
    "        str: The hash code as a string\n",
    "    \"\"\"\n",
    "    # Start with a product of 1 for the first name characters\n",
    "    unicode_product = 1\n",
    "    # Go through each letter in the first name and multiply its Unicode value\n",
    "    for char in first_name:\n",
    "        unicode_product *= ord(char)\n",
    "\n",
    "    # Start with a sum of 0 for the last name characters\n",
    "    unicode_sum = 0\n",
    "    # Go through each letter in the last name and add its Unicode value\n",
    "    for char in last_name:\n",
    "        unicode_sum += ord(char)\n",
    "\n",
    "    # Convert both numbers to strings and put them together\n",
    "    hash_value = str(unicode_product) + str(unicode_sum)\n",
    "    return hash_value\n",
    "\n",
    "def main():\n",
    "    # Ask the user to enter a first name and a last name\n",
    "    first_name = input(\"Enter the first name: \")\n",
    "    last_name = input(\"Enter the last name: \")\n",
    "\n",
    "    # Calculate the hash value for the names\n",
    "    hash_code = myhash(first_name, last_name)\n",
    "\n",
    "    # Print the result in the requested format\n",
    "    print(f'The hash code \"{hash_code}\" corresponds to \"{first_name} {last_name}\".')\n",
    "\n",
    "# Run the main function to start the program\n",
    "if __name__ == \"__main__\":\n",
    "    main()\n",
    "\n"
   ],
   "id": "381282787c52d415",
   "outputs": [
    {
     "name": "stdout",
     "output_type": "stream",
     "text": [
      "The hash code \"10\" corresponds to \" \".\n"
     ]
    }
   ],
   "execution_count": 1
  },
  {
   "metadata": {},
   "cell_type": "code",
   "outputs": [],
   "execution_count": null,
   "source": "",
   "id": "4c46ef1e5947c726"
  }
 ],
 "metadata": {
  "kernelspec": {
   "display_name": "Python 3",
   "language": "python",
   "name": "python3"
  },
  "language_info": {
   "codemirror_mode": {
    "name": "ipython",
    "version": 2
   },
   "file_extension": ".py",
   "mimetype": "text/x-python",
   "name": "python",
   "nbconvert_exporter": "python",
   "pygments_lexer": "ipython2",
   "version": "2.7.6"
  }
 },
 "nbformat": 4,
 "nbformat_minor": 5
}
