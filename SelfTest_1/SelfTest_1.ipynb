{
 "cells": [
  {
   "metadata": {},
   "cell_type": "markdown",
   "source": "# Self Test 1: Computer Architecture",
   "id": "1eb640b1df30da34"
  },
  {
   "metadata": {},
   "cell_type": "markdown",
   "source": [
    "# 1. Assembly language (5 Points)\n",
    "\n",
    "Which of the following statements is correct?\n",
    "\n",
    "\n",
    "| Question                                                                                                 | Yes    | No   | Dont Answer  |\n",
    "|----------------------------------------------------------------------------------------------------------|--------|------|--------------|\n",
    "| Assembly Language uses an alphabetic/numeric code of in place of binary numbers used in machine language | \t ✅Yes | No   | don't answer |\n",
    "| Assembly Language is the easiest language to write programs.                                             | \t Yes  | ✅ No | don't answer |\n",
    "| Assembly Language need not be translated into machine language. | Yes\t   | ✅No  | don't answer |\n",
    "| The processor can executed programs in its machine language without extra translation.                   | \t ✅Yes | No   | don't answer |\n",
    "| It is very hard to translate a program from Assembly language into machine language.\t                    | Yes    | ✅No  | don't answer |\n",
    "Attention: Wrong answers are penalized by deduction of points."
   ],
   "id": "bd928871d812fa73"
  },
  {
   "metadata": {},
   "cell_type": "markdown",
   "source": [
    "# 2. Machine Language (6 Points)\n",
    "\n",
    "The native language of a processor\n",
    "\n",
    "\n",
    "* ✅is called Machine language\n",
    "\n",
    "* is called Assembler language\n",
    "* ✅is a low level language\n",
    "\n",
    "* is a high level language\n",
    "\n",
    "* has arithmetic/logic instruction, move instructions, jump instructions, print instructions, and input instructions.\n",
    "\n",
    "* ✅has arithmetic/logic instruction, move instructions, jump instructions, and control instructions.\n",
    "\n",
    "Attention: Wrong answers are penalized by deduction of points."
   ],
   "id": "52ce5f3a855de095"
  },
  {
   "metadata": {},
   "cell_type": "markdown",
   "source": "",
   "id": "ff41ddca4f94ad10"
  },
  {
   "metadata": {},
   "cell_type": "markdown",
   "source": [
    "# 3. Main Memory (6 Points)\n",
    "\n",
    "In the von Neumann Architecture, the main memory\n",
    "\n",
    "\n",
    "* ✅stores the instructions of processes.\n",
    "\n",
    "* ✅stores the data of processes.\n",
    "\n",
    "* The main memory stores information persistantly (permanently, keeps its content even at power failures).\n",
    "\n",
    "* ✅The main memory is volatile.\n",
    "\n",
    "* ✅The main memory usually has registers for storing an addressand a value.\n",
    "\n",
    "* You can access each bit in the main memory by its address.\n",
    "\n",
    "\n",
    "Attention: Wrong answers are penalized by deduction of points."
   ],
   "id": "69a30463e36bb492"
  },
  {
   "metadata": {},
   "cell_type": "markdown",
   "source": [
    "# 4. John von Neumann Architecture (6 points)\n",
    "\n",
    "The von-Neumann-Architecture defines the following principles for  the (main) memory :\n",
    "\n",
    "Choose the correct statements!\n",
    "\n",
    "\n",
    "* ✅The memory consists of a linear sequence of memory cells (bits).\n",
    "\n",
    "* The data in the memory is stored in hexadecimal representation.\n",
    "\n",
    "* ✅Memory words are groups of memory cells.\n",
    "\n",
    "* ✅The content of a memory word can be accessed via its address.\n",
    "\n",
    "* ✅The length of a memory word may vary depending on what is stored in the word.\n",
    "\n",
    "* The length of a memory word is always the same. To store \"longer\" information more words are used.\n",
    "Attention: Wrong answers are penalized by deduction of points.\n"
   ],
   "id": "136bf790ec8c1a4b"
  },
  {
   "metadata": {},
   "cell_type": "markdown",
   "source": [
    "# 5. Components and their registers (8 points)\n",
    "\n",
    "Which components own register and which purpose do these registers have?\n",
    "\n",
    "* ALU is short for ( ✅Arithmetic/Logic Unit | Anti Logical Unit | Algorithmic Unit ). It executes ( all instructions | ✅Arithmetic / Logic Instructions | Jump Instructions | Move Instruction | Interrupts ) and needs registers for storing ( instructions and data | the address of the next instructions | ✅the operands and results of an instruction )\n",
    "* CU is short for the processor's ( See You Instruction | ✅Control Unit | Calculation Unit ) . It owns the ( SAR(Storage Address Register) | SDR( Storage Data Register) | ✅PC (Program Counter) register for storing the address of the next instruction which has to be executed.\n",
    "* The main memory also own registers: (✅SAR(Storage Address Register) and SDR( Storage Data Register) | PC (Program Counter) and SDR( Storage Data Register) | PC (Program Counter) and SAR(Storage Address Register) ) for storing the adress of the next storage item to be fetched  (SDR | ✅SAR | PC) and for storing its data (SAR | ✅SDR | PC) .\n",
    " \n"
   ],
   "id": "356890fefdfaefd4"
  },
  {
   "metadata": {},
   "cell_type": "markdown",
   "source": [
    "# 6. Processing of instructions (4 Point)\n",
    "\n",
    "A script, which is currently running (processed), is called a process.\n",
    "\n",
    "How is an instruction performed?\n",
    "\n",
    "We assume in steps 4-6 that the instruction is an arithmetic or logic operation.\n",
    "\n",
    "\n",
    "\n",
    "1) The Control Unit fetches the next instruction from the memory and\n",
    "➔ stores it in its instruction register\n",
    "\n",
    "2) The Control Unit\n",
    "➔ increments the Program Counter and requests the next instruction\n",
    "\n",
    "3) The Control Unit\n",
    "➔ decodes and analyzes the instruction and requests the needed operands from the memory\n",
    "\n",
    "4) The Arithmetic/Logic Unit (ALU)\n",
    "➔ receives the operation code and the operands and stores the operands in data registers\n",
    "\n",
    "5) The Arithmetic/Logic Unit (ALU)\n",
    "➔ executes the operation and stores the result in a register\n",
    "\n",
    "6) In case of a store operation,\n",
    "➔ the result and the memory address where the result should be stored are sent to the memory\n",
    "\n"
   ],
   "id": "555444edf95f6453"
  },
  {
   "metadata": {},
   "cell_type": "markdown",
   "source": [
    "# 7. Von Neumann Architecture: Peripheral or not? (10 points)\n",
    "\n",
    "Which components are part of the the von-Neumann-Architecture ?\n",
    "\n",
    "\n",
    "* ✅CPU\n",
    "\n",
    "* ✅ALU\n",
    "\n",
    "* ✅CU\n",
    "\n",
    "* Hard Drive\n",
    "\n",
    "* Keyboard\n",
    "\n",
    "* ✅System Bus\n",
    "\n",
    "* ✅Input/output-Interface\n",
    "\n",
    "* ✅Main memory\n",
    "\n",
    "* Secondary Memory (hard drive)\n",
    "\n",
    "* Monitor\n",
    "\n",
    "Attention: Wrong answers are penalized by deduction of points."
   ],
   "id": "c02e9fabb7cf9e9f"
  },
  {
   "metadata": {},
   "cell_type": "markdown",
   "source": [
    "# 8. Register (5 Points)\n",
    "\n",
    "Registers in a computer\n",
    "\n",
    "\n",
    "are something where you can put in money savely\n",
    "\n",
    "✅are very small memory storages for one data word only.\n",
    "\n",
    "stores some text of arbitrary length\n",
    "\n",
    "✅are the fastest storage units in a computer\n",
    "\n",
    "store login names and passwords.\n",
    "\n",
    "\n",
    "Attention: Wrong answers are penalized by deduction of points."
   ],
   "id": "c66099e0dc5ca071"
  },
  {
   "metadata": {},
   "cell_type": "code",
   "outputs": [],
   "execution_count": null,
   "source": "",
   "id": "9da678769ec7acb5"
  },
  {
   "metadata": {},
   "cell_type": "code",
   "outputs": [],
   "execution_count": null,
   "source": "",
   "id": "ee7f8a2e60027a18"
  }
 ],
 "metadata": {
  "kernelspec": {
   "display_name": "Python 3",
   "language": "python",
   "name": "python3"
  },
  "language_info": {
   "codemirror_mode": {
    "name": "ipython",
    "version": 2
   },
   "file_extension": ".py",
   "mimetype": "text/x-python",
   "name": "python",
   "nbconvert_exporter": "python",
   "pygments_lexer": "ipython2",
   "version": "2.7.6"
  }
 },
 "nbformat": 4,
 "nbformat_minor": 5
}
